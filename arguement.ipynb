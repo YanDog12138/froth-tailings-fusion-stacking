{
 "cells": [
  {
   "cell_type": "code",
   "execution_count": 1,
   "metadata": {},
   "outputs": [],
   "source": [
    "import os\n",
    "import cv2\n",
    "import numpy as np"
   ]
  },
  {
   "cell_type": "code",
   "execution_count": 7,
   "metadata": {},
   "outputs": [],
   "source": [
    "m = 4   \n",
    "p = r'H:\\stacking_data\\data\\fuse'\n",
    "path = os.path.join(p,f'{m}')\n",
    "dir = os.listdir(path)\n",
    "\n",
    "# print(dir)\n",
    "for n ,i in enumerate(dir):\n",
    "    path1 = os.path.join(path,i)\n",
    "    # print(path1)\n",
    "    image = cv2.imread(path1)\n",
    "    # path2 = os.path.join(path,f'{n}_rotated.png')\n",
    "    # print(path2)\n",
    "    \n",
    "    a = np.random.randint(0, 3)\n",
    "    an = [90, 180, 270]\n",
    "    angle = an[a]\n",
    "    rows, cols = image.shape[:2]\n",
    "    M = cv2.getRotationMatrix2D((cols/2, rows/2), angle, 1)\n",
    " \n",
    "    cos = np.abs(M[0, 0])\n",
    "    sin = np.abs(M[0, 1])\n",
    "    new_cols = int(rows * sin + cols * cos)\n",
    "    new_rows = int(rows * cos + cols * sin)\n",
    "\n",
    "    M[0, 2] += (new_cols - cols) / 2\n",
    "    M[1, 2] += (new_rows - rows) / 2\n",
    " \n",
    "    rotated_image = cv2.warpAffine(image, M, (new_cols, new_rows), borderMode=cv2.BORDER_REPLICATE)\n",
    "    cv2.imwrite(os.path.join(path, f'{n}_rotated.png'), rotated_image)\n",
    "\n",
    " \n",
    "    # crop_x = np.random.randint(0, image.shape[1] - 100)\n",
    "    # crop_y = np.random.randint(0, image.shape[0] - 100)\n",
    "    # cropped_image = image[crop_y:crop_y+100, crop_x:crop_x+100]\n",
    "    # cv2.imwrite(os.path.join(path,f'{n}_cropped.png'),cropped_image)\n",
    "\n",
    " \n",
    "    # flip_direction = np.random.randint(-1, 2)  \n",
    "    # flipped_image = cv2.flip(image, flip_direction)\n",
    "    # cv2.imwrite(os.path.join(path,f'{n}_flipped.png'),flipped_image)\n",
    "\n",
    "   \n",
    "    scale_factor = np.random.uniform(0.7, 1.3)\n",
    "    scaled_image = cv2.resize(image, None, fx=scale_factor, fy=scale_factor)\n",
    "    cv2.imwrite(os.path.join(path,f'{n}_scaled.png'),scaled_image)\n",
    "    \n",
    "\n",
    "\n"
   ]
  }
 ],
 "metadata": {
  "kernelspec": {
   "display_name": "base",
   "language": "python",
   "name": "python3"
  },
  "language_info": {
   "codemirror_mode": {
    "name": "ipython",
    "version": 3
   },
   "file_extension": ".py",
   "mimetype": "text/x-python",
   "name": "python",
   "nbconvert_exporter": "python",
   "pygments_lexer": "ipython3",
   "version": "3.8.3"
  }
 },
 "nbformat": 4,
 "nbformat_minor": 2
}
