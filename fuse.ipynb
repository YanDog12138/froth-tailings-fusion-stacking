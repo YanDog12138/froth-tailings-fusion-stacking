{
 "cells": [
  {
   "cell_type": "code",
   "execution_count": null,
   "metadata": {},
   "outputs": [],
   "source": [
    "import os\n",
    "import cv2\n",
    "import glob\n",
    "import numpy as np\n",
    "from tqdm import tqdm"
   ]
  },
  {
   "cell_type": "code",
   "execution_count": null,
   "metadata": {},
   "outputs": [],
   "source": [
    "def laplacian_pyramid(image, levels):\n",
    "    pyramid = [image]\n",
    "    for i in range(levels):\n",
    "        image = cv2.pyrDown(image)\n",
    "        pyramid.append(image)\n",
    "    return pyramid\n",
    "\n",
    "def reconstruct_laplacian(pyramid):\n",
    "    image = pyramid[-1]\n",
    "    for i in range(len(pyramid)-2, -1, -1):\n",
    "        image = cv2.pyrUp(image)\n",
    "        # print(image.shape)\n",
    "        # print(pyramid[i].shape)\n",
    "        image = cv2.resize(image,(pyramid[i].shape[1],pyramid[i].shape[0]))\n",
    "        image = cv2.subtract(pyramid[i], image)\n",
    "        # image = cv2.cvtColor(image, cv2.COLOR_GRAY2BGR) \n",
    "    return image\n",
    "\n",
    "def makedir(dir_path):\n",
    "    bool=os.path.exists(dir_path)\n",
    "    \n",
    "    if bool:\n",
    "        pass\n",
    "    else:\n",
    "        os.makedirs(dir_path)"
   ]
  },
  {
   "cell_type": "code",
   "execution_count": null,
   "metadata": {},
   "outputs": [],
   "source": [
    "path = 'H:/stacking_data/data/froth/ori/+14.51'\n",
    "m = 5\n",
    "a = os.listdir(path)      \n",
    "# print(a)\n",
    "for ii in tqdm(a):\n",
    "    path1 = path+'/'+ii\n",
    "    # print(path1)\n",
    "    path2 = 'H:/stacking_data/data/tail'+'/'+ii+'.png'   \n",
    "    b = os.listdir(path1)                 \n",
    "    # print(b)\n",
    "\n",
    "    image1 = cv2.imread(path2)   \n",
    "    for n in tqdm(b,leave=False):                 \n",
    "        \n",
    "        path3 = path+'/'+ii+'/'+n         \n",
    "          \n",
    "        path4 = 'H:/stacking_data/data/ronghe'+'/'+f'{m}'+'/'+ii    \n",
    "        makedir(path4)\n",
    "\n",
    "        image2 = cv2.imread(path3)\n",
    "        image1 = cv2.resize(image1,(image2.shape[1],image2.shape[0]))\n",
    "        # gray1 = cv2.cvtColor(image1, cv2.COLOR_BGR2GRAY)\n",
    "        # gray2 = cv2.cvtColor(image2, cv2.COLOR_BGR2GRAY)\n",
    "        \n",
    "  \n",
    "        levels = 5\n",
    "        pyramid1 = laplacian_pyramid(image1, levels)\n",
    "        pyramid2 = laplacian_pyramid(image2, levels)\n",
    "\n",
    "       \n",
    "        blended_pyramid = []\n",
    "        for i in range(levels):\n",
    "            blended = cv2.addWeighted(pyramid1[i], 0.5, pyramid2[i], 0.5, 0)\n",
    "            blended_pyramid.append(blended)\n",
    "\n",
    "  \n",
    "        result = reconstruct_laplacian(blended_pyramid)\n",
    "        # result_color = cv2.cvtColor(result, cv2.COLOR_GRAY2BGR)  \n",
    "        cv2.imwrite(path4+'/'+n,result)\n",
    "    \n",
    "    cv2.waitKey(0)\n",
    "    cv2.destroyAllWindows()\n",
    "    \n",
    "    \n",
    "    \n",
    "    \n",
    "    \n",
    "    \n",
    "    \n"
   ]
  }
 ],
 "metadata": {
  "kernelspec": {
   "display_name": "base",
   "language": "python",
   "name": "python3"
  },
  "language_info": {
   "codemirror_mode": {
    "name": "ipython",
    "version": 3
   },
   "file_extension": ".py",
   "mimetype": "text/x-python",
   "name": "python",
   "nbconvert_exporter": "python",
   "pygments_lexer": "ipython3",
   "version": "3.9.19"
  }
 },
 "nbformat": 4,
 "nbformat_minor": 2
}
