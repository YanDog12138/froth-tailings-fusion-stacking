{
 "cells": [
  {
   "cell_type": "code",
   "execution_count": 20,
   "metadata": {},
   "outputs": [
    {
     "name": "stdout",
     "output_type": "stream",
     "text": [
      "图像信息熵： 6.083916966222412\n",
      "图像标准差： 16.826657790226555\n"
     ]
    }
   ],
   "source": [
    "# for i in range(1,16,2):\n",
    "import cv2\n",
    "import numpy as np\n",
    "\n",
    "def image_std(image):\n",
    "    \n",
    "    gray_image = cv2.cvtColor(image, cv2.COLOR_BGR2GRAY)\n",
    "\n",
    "    std = np.std(gray_image)\n",
    "\n",
    "    return std\n",
    "def image_entropy(image):\n",
    "    gray_image = cv2.cvtColor(image, cv2.COLOR_BGR2GRAY)\n",
    "    pixel_counts = np.histogram(gray_image, bins=256, range=[0, 255])[0]\n",
    "    pixel_probabilities = pixel_counts / np.sum(pixel_counts)\n",
    "    entropy = -np.sum(pixel_probabilities * np.log2(pixel_probabilities + 1e-10))\n",
    "    return entropy\n",
    "\n",
    "\n",
    "# reference_image = cv2.imread(f'E:/desktop/{i}.png')\n",
    "reference_image = cv2.imread(f'E:/desktop/5.png')\n",
    "entropy1 = image_entropy(reference_image)\n",
    "print(\"entropy：\", entropy1)\n",
    "\n",
    "# 计算图像2的信息熵\n",
    "entropy2 = image_std(reference_image)\n",
    "print(\"std：\", entropy2)"
   ]
  }
 ],
 "metadata": {
  "kernelspec": {
   "display_name": "torch",
   "language": "python",
   "name": "python3"
  },
  "language_info": {
   "codemirror_mode": {
    "name": "ipython",
    "version": 3
   },
   "file_extension": ".py",
   "mimetype": "text/x-python",
   "name": "python",
   "nbconvert_exporter": "python",
   "pygments_lexer": "ipython3",
   "version": "3.9.19"
  }
 },
 "nbformat": 4,
 "nbformat_minor": 2
}
